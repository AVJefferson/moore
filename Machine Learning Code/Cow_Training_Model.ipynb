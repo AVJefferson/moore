{
  "nbformat": 4,
  "nbformat_minor": 0,
  "metadata": {
    "colab": {
      "name": "Copy of CowModel.ipynb",
      "provenance": []
    },
    "kernelspec": {
      "name": "python3",
      "display_name": "Python 3"
    },
    "language_info": {
      "name": "python"
    },
    "accelerator": "TPU"
  },
  "cells": [
    {
      "cell_type": "code",
      "source": [
        "!pip install tensorflow_decision_forests"
      ],
      "metadata": {
        "id": "A9ccpVGpy8Nv"
      },
      "execution_count": null,
      "outputs": []
    },
    {
      "cell_type": "code",
      "source": [
        "import tensorflow_decision_forests as tfdf\n",
        "import pandas as pd\n",
        "from google.colab import drive\n",
        "drive.mount('/content/gdrive')\n",
        "train_df = pd.read_excel(\"/content/Data.xlsx\")\n",
        "train_ds = tfdf.keras.pd_dataframe_to_tf_dataset(train_df, label=\"activity\")\n",
        "model = tfdf.keras.RandomForestModel()\n",
        "model.fit(train_ds)"
      ],
      "metadata": {
        "id": "qpEP_xcxyRLX"
      },
      "execution_count": null,
      "outputs": []
    },
    {
      "cell_type": "code",
      "source": [
        "test_df = pd.read_excel(\"/content/Datat.xlsx\")\n",
        "test_ds = tfdf.keras.pd_dataframe_to_tf_dataset(test_df, label=\"activity\")\n",
        "model.compile(metrics=[\"accuracy\"])\n",
        "print(model.evaluate(test_ds))\n",
        "model.save(\"project/my_first_model\")"
      ],
      "metadata": {
        "id": "RuOj_Ib7zKlp"
      },
      "execution_count": null,
      "outputs": []
    },
    {
      "cell_type": "code",
      "source": [
        ""
      ],
      "metadata": {
        "id": "bJNpKbuzQU-N"
      },
      "execution_count": null,
      "outputs": []
    }
  ]
}